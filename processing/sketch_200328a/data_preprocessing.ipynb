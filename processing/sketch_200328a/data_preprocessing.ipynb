{
 "nbformat": 4,
 "nbformat_minor": 2,
 "metadata": {
  "language_info": {
   "name": "python",
   "codemirror_mode": {
    "name": "ipython",
    "version": 3
   },
   "version": "3.7.4-final"
  },
  "orig_nbformat": 2,
  "file_extension": ".py",
  "mimetype": "text/x-python",
  "name": "python",
  "npconvert_exporter": "python",
  "pygments_lexer": "ipython3",
  "version": 3,
  "kernelspec": {
   "name": "python3",
   "display_name": "Python 3"
  }
 },
 "cells": [
  {
   "cell_type": "code",
   "execution_count": 132,
   "metadata": {},
   "outputs": [],
   "source": [
    "import pandas as pd\n",
    "import json\n",
    "import numpy as np"
   ]
  },
  {
   "cell_type": "code",
   "execution_count": 5,
   "metadata": {},
   "outputs": [],
   "source": [
    "path1=r'C:\\Users\\jsao\\Documents\\Processing\\sketch_200325a\\ttgyd\\processing\\data\\sketch_200328a\\location.json'\n",
    "path2 = r'C:\\Users\\jsao\\Documents\\Processing\\sketch_200325a\\ttgyd\\processing\\data\\sketch_200328a\\countries-latest.json'"
   ]
  },
  {
   "cell_type": "code",
   "execution_count": 10,
   "metadata": {},
   "outputs": [],
   "source": [
    "with open(path1,'r') as f:\n",
    "    location = json.loads(f.read())"
   ]
  },
  {
   "cell_type": "code",
   "execution_count": 13,
   "metadata": {},
   "outputs": [],
   "source": [
    "with open(path2,'r') as f:\n",
    "    data = json.loads(f.read())"
   ]
  },
  {
   "cell_type": "code",
   "execution_count": 14,
   "metadata": {},
   "outputs": [
    {
     "output_type": "execute_result",
     "data": {
      "text/plain": "{'country': 'Afghanistan',\n 'date': '2020-03-22T00:00:00.000000Z',\n 'confirmed': '40',\n 'deaths': 1,\n 'recovered': 1}"
     },
     "metadata": {},
     "execution_count": 14
    }
   ],
   "source": [
    "data[0]"
   ]
  },
  {
   "cell_type": "code",
   "execution_count": 15,
   "metadata": {},
   "outputs": [
    {
     "output_type": "execute_result",
     "data": {
      "text/plain": "{'country': 'AD',\n 'latitude': 42.546245,\n 'longitude': 1.601554,\n 'name': 'Andorra'}"
     },
     "metadata": {},
     "execution_count": 15
    }
   ],
   "source": [
    "location[0]"
   ]
  },
  {
   "cell_type": "code",
   "execution_count": 28,
   "metadata": {},
   "outputs": [],
   "source": [
    "df = pd.read_json(path1)"
   ]
  },
  {
   "cell_type": "code",
   "execution_count": 31,
   "metadata": {},
   "outputs": [],
   "source": [
    "data = pd.read_json(path2)"
   ]
  },
  {
   "cell_type": "code",
   "execution_count": 40,
   "metadata": {},
   "outputs": [
    {
     "output_type": "execute_result",
     "data": {
      "text/plain": "113.0"
     },
     "metadata": {},
     "execution_count": 40
    }
   ],
   "source": [
    "data[data['country']=='Andorra']['confirmed'].mean()"
   ]
  },
  {
   "cell_type": "code",
   "execution_count": 85,
   "metadata": {},
   "outputs": [],
   "source": [
    "df['confirmed'] = 0"
   ]
  },
  {
   "cell_type": "code",
   "execution_count": 137,
   "metadata": {},
   "outputs": [],
   "source": [
    "df.to_csv(r'D:\\datasets.csv')"
   ]
  },
  {
   "cell_type": "code",
   "execution_count": 110,
   "metadata": {},
   "outputs": [],
   "source": [
    "for i in data['country']:\n",
    "    df['confirmed'][df['name'] == i] = data['confirmed'][data['country'] == i].mean()"
   ]
  },
  {
   "cell_type": "code",
   "execution_count": 60,
   "metadata": {},
   "outputs": [
    {
     "output_type": "execute_result",
     "data": {
      "text/plain": "array([None], dtype=object)"
     },
     "metadata": {},
     "execution_count": 60
    }
   ],
   "source": [
    "df['confirmed'].unique()"
   ]
  },
  {
   "cell_type": "code",
   "execution_count": 61,
   "metadata": {},
   "outputs": [
    {
     "output_type": "execute_result",
     "data": {
      "text/plain": "76516.0"
     },
     "metadata": {},
     "execution_count": 61
    }
   ],
   "source": [
    "data[data['country'] == 'China']['confirmed'].mean()"
   ]
  },
  {
   "cell_type": "code",
   "execution_count": 84,
   "metadata": {},
   "outputs": [],
   "source": [
    "df['confirmed'][df['country'] == 'China'] = 1"
   ]
  },
  {
   "cell_type": "code",
   "execution_count": 106,
   "metadata": {},
   "outputs": [],
   "source": [
    "df['confirmed'][df['name'] == 'Andorra'] = 1"
   ]
  },
  {
   "cell_type": "code",
   "execution_count": 98,
   "metadata": {},
   "outputs": [
    {
     "output_type": "execute_result",
     "data": {
      "text/plain": "nan"
     },
     "metadata": {},
     "execution_count": 98
    }
   ],
   "source": [
    "df['confirmed'][df['country'] == 'China'].mean()"
   ]
  },
  {
   "cell_type": "code",
   "execution_count": 134,
   "metadata": {},
   "outputs": [],
   "source": [
    "df['confirmed_log'] = df['confirmed'].apply(np.log1p)"
   ]
  },
  {
   "cell_type": "code",
   "execution_count": 136,
   "metadata": {},
   "outputs": [
    {
     "output_type": "execute_result",
     "data": {
      "text/plain": "<bound method Series.sort_values of 0       0.000000\n1       0.000000\n2       0.000000\n3       0.000000\n4       0.000000\n         ...    \n240     9.982253\n241    10.121578\n242    10.267054\n243    10.987646\n244    11.245268\nName: confirmed_log, Length: 245, dtype: float64>"
     },
     "metadata": {},
     "execution_count": 136
    }
   ],
   "source": [
    "df['confirmed_log'].sort_values"
   ]
  },
  {
   "cell_type": "code",
   "execution_count": 139,
   "metadata": {},
   "outputs": [
    {
     "output_type": "error",
     "ename": "TypeError",
     "evalue": "'0       True\n1       True\n2       True\n3       True\n4       True\n       ...  \n240    False\n241    False\n242    False\n243    False\n244    False\nName: confirmed, Length: 245, dtype: bool' is an invalid key",
     "traceback": [
      "\u001b[1;31m---------------------------------------------------------------------------\u001b[0m",
      "\u001b[1;31mTypeError\u001b[0m                                 Traceback (most recent call last)",
      "\u001b[1;32m<ipython-input-139-cd0b8273cd89>\u001b[0m in \u001b[0;36m<module>\u001b[1;34m\u001b[0m\n\u001b[1;32m----> 1\u001b[1;33m \u001b[1;32mdel\u001b[0m \u001b[0mdf\u001b[0m\u001b[1;33m[\u001b[0m\u001b[0mdf\u001b[0m\u001b[1;33m[\u001b[0m\u001b[1;34m'confirmed'\u001b[0m\u001b[1;33m]\u001b[0m\u001b[1;33m==\u001b[0m\u001b[1;36m0\u001b[0m\u001b[1;33m]\u001b[0m\u001b[1;33m\u001b[0m\u001b[1;33m\u001b[0m\u001b[0m\n\u001b[0m",
      "\u001b[1;32mC:\\ProgramData\\Anaconda3\\lib\\site-packages\\pandas\\core\\generic.py\u001b[0m in \u001b[0;36m__delitem__\u001b[1;34m(self, key)\u001b[0m\n\u001b[0;32m   3514\u001b[0m             \u001b[1;31m# there was no match, this call should raise the appropriate\u001b[0m\u001b[1;33m\u001b[0m\u001b[1;33m\u001b[0m\u001b[1;33m\u001b[0m\u001b[0m\n\u001b[0;32m   3515\u001b[0m             \u001b[1;31m# exception:\u001b[0m\u001b[1;33m\u001b[0m\u001b[1;33m\u001b[0m\u001b[1;33m\u001b[0m\u001b[0m\n\u001b[1;32m-> 3516\u001b[1;33m             \u001b[0mself\u001b[0m\u001b[1;33m.\u001b[0m\u001b[0m_data\u001b[0m\u001b[1;33m.\u001b[0m\u001b[0mdelete\u001b[0m\u001b[1;33m(\u001b[0m\u001b[0mkey\u001b[0m\u001b[1;33m)\u001b[0m\u001b[1;33m\u001b[0m\u001b[1;33m\u001b[0m\u001b[0m\n\u001b[0m\u001b[0;32m   3517\u001b[0m \u001b[1;33m\u001b[0m\u001b[0m\n\u001b[0;32m   3518\u001b[0m         \u001b[1;31m# delete from the caches\u001b[0m\u001b[1;33m\u001b[0m\u001b[1;33m\u001b[0m\u001b[1;33m\u001b[0m\u001b[0m\n",
      "\u001b[1;32mC:\\ProgramData\\Anaconda3\\lib\\site-packages\\pandas\\core\\internals\\managers.py\u001b[0m in \u001b[0;36mdelete\u001b[1;34m(self, item)\u001b[0m\n\u001b[0;32m    994\u001b[0m         \u001b[0mDelete\u001b[0m \u001b[0mselected\u001b[0m \u001b[0mitem\u001b[0m \u001b[1;33m(\u001b[0m\u001b[0mitems\u001b[0m \u001b[1;32mif\u001b[0m \u001b[0mnon\u001b[0m\u001b[1;33m-\u001b[0m\u001b[0munique\u001b[0m\u001b[1;33m)\u001b[0m \u001b[1;32min\u001b[0m\u001b[1;33m-\u001b[0m\u001b[0mplace\u001b[0m\u001b[1;33m.\u001b[0m\u001b[1;33m\u001b[0m\u001b[1;33m\u001b[0m\u001b[0m\n\u001b[0;32m    995\u001b[0m         \"\"\"\n\u001b[1;32m--> 996\u001b[1;33m         \u001b[0mindexer\u001b[0m \u001b[1;33m=\u001b[0m \u001b[0mself\u001b[0m\u001b[1;33m.\u001b[0m\u001b[0mitems\u001b[0m\u001b[1;33m.\u001b[0m\u001b[0mget_loc\u001b[0m\u001b[1;33m(\u001b[0m\u001b[0mitem\u001b[0m\u001b[1;33m)\u001b[0m\u001b[1;33m\u001b[0m\u001b[1;33m\u001b[0m\u001b[0m\n\u001b[0m\u001b[0;32m    997\u001b[0m \u001b[1;33m\u001b[0m\u001b[0m\n\u001b[0;32m    998\u001b[0m         \u001b[0mis_deleted\u001b[0m \u001b[1;33m=\u001b[0m \u001b[0mnp\u001b[0m\u001b[1;33m.\u001b[0m\u001b[0mzeros\u001b[0m\u001b[1;33m(\u001b[0m\u001b[0mself\u001b[0m\u001b[1;33m.\u001b[0m\u001b[0mshape\u001b[0m\u001b[1;33m[\u001b[0m\u001b[1;36m0\u001b[0m\u001b[1;33m]\u001b[0m\u001b[1;33m,\u001b[0m \u001b[0mdtype\u001b[0m\u001b[1;33m=\u001b[0m\u001b[0mnp\u001b[0m\u001b[1;33m.\u001b[0m\u001b[0mbool_\u001b[0m\u001b[1;33m)\u001b[0m\u001b[1;33m\u001b[0m\u001b[1;33m\u001b[0m\u001b[0m\n",
      "\u001b[1;32mC:\\ProgramData\\Anaconda3\\lib\\site-packages\\pandas\\core\\indexes\\base.py\u001b[0m in \u001b[0;36mget_loc\u001b[1;34m(self, key, method, tolerance)\u001b[0m\n\u001b[0;32m   2895\u001b[0m                 )\n\u001b[0;32m   2896\u001b[0m             \u001b[1;32mtry\u001b[0m\u001b[1;33m:\u001b[0m\u001b[1;33m\u001b[0m\u001b[1;33m\u001b[0m\u001b[0m\n\u001b[1;32m-> 2897\u001b[1;33m                 \u001b[1;32mreturn\u001b[0m \u001b[0mself\u001b[0m\u001b[1;33m.\u001b[0m\u001b[0m_engine\u001b[0m\u001b[1;33m.\u001b[0m\u001b[0mget_loc\u001b[0m\u001b[1;33m(\u001b[0m\u001b[0mkey\u001b[0m\u001b[1;33m)\u001b[0m\u001b[1;33m\u001b[0m\u001b[1;33m\u001b[0m\u001b[0m\n\u001b[0m\u001b[0;32m   2898\u001b[0m             \u001b[1;32mexcept\u001b[0m \u001b[0mKeyError\u001b[0m\u001b[1;33m:\u001b[0m\u001b[1;33m\u001b[0m\u001b[1;33m\u001b[0m\u001b[0m\n\u001b[0;32m   2899\u001b[0m                 \u001b[1;32mreturn\u001b[0m \u001b[0mself\u001b[0m\u001b[1;33m.\u001b[0m\u001b[0m_engine\u001b[0m\u001b[1;33m.\u001b[0m\u001b[0mget_loc\u001b[0m\u001b[1;33m(\u001b[0m\u001b[0mself\u001b[0m\u001b[1;33m.\u001b[0m\u001b[0m_maybe_cast_indexer\u001b[0m\u001b[1;33m(\u001b[0m\u001b[0mkey\u001b[0m\u001b[1;33m)\u001b[0m\u001b[1;33m)\u001b[0m\u001b[1;33m\u001b[0m\u001b[1;33m\u001b[0m\u001b[0m\n",
      "\u001b[1;32mpandas\\_libs\\index.pyx\u001b[0m in \u001b[0;36mpandas._libs.index.IndexEngine.get_loc\u001b[1;34m()\u001b[0m\n",
      "\u001b[1;32mpandas\\_libs\\index.pyx\u001b[0m in \u001b[0;36mpandas._libs.index.IndexEngine.get_loc\u001b[1;34m()\u001b[0m\n",
      "\u001b[1;31mTypeError\u001b[0m: '0       True\n1       True\n2       True\n3       True\n4       True\n       ...  \n240    False\n241    False\n242    False\n243    False\n244    False\nName: confirmed, Length: 245, dtype: bool' is an invalid key"
     ]
    }
   ],
   "source": [
    "del df[df['confirmed']==0]"
   ]
  },
  {
   "cell_type": "code",
   "execution_count": 143,
   "metadata": {},
   "outputs": [],
   "source": [
    "newdf = df[df['confirmed']!=0]"
   ]
  },
  {
   "cell_type": "code",
   "execution_count": 145,
   "metadata": {},
   "outputs": [
    {
     "output_type": "execute_result",
     "data": {
      "text/plain": "    country latitude longitude           name  confirmed  confirmed_log\n124      LB  33.8547   35.8623        Lebanon        1.0       0.693147\n125      LC  13.9094  -60.9789    Saint Lucia        1.0       0.693147\n126      LI   47.166   9.55537  Liechtenstein        1.0       0.693147\n127      LK  7.87305   80.7718      Sri Lanka        1.0       0.693147\n128      LR  6.42805   -9.4295        Liberia        1.0       0.693147\n..      ...      ...       ...            ...        ...            ...\n240      YE  15.5527   48.5164          Yemen    21638.0       9.982253\n241      YT -12.8275   45.1662        Mayotte    24873.0      10.121578\n242      ZA -30.5595   22.9375   South Africa    28768.0      10.267054\n243      ZM -13.1339   27.8493         Zambia    59138.0      10.987646\n244      ZW -19.0154   29.1549       Zimbabwe    76516.0      11.245268\n\n[121 rows x 6 columns]",
      "text/html": "<div>\n<style scoped>\n    .dataframe tbody tr th:only-of-type {\n        vertical-align: middle;\n    }\n\n    .dataframe tbody tr th {\n        vertical-align: top;\n    }\n\n    .dataframe thead th {\n        text-align: right;\n    }\n</style>\n<table border=\"1\" class=\"dataframe\">\n  <thead>\n    <tr style=\"text-align: right;\">\n      <th></th>\n      <th>country</th>\n      <th>latitude</th>\n      <th>longitude</th>\n      <th>name</th>\n      <th>confirmed</th>\n      <th>confirmed_log</th>\n    </tr>\n  </thead>\n  <tbody>\n    <tr>\n      <td>124</td>\n      <td>LB</td>\n      <td>33.8547</td>\n      <td>35.8623</td>\n      <td>Lebanon</td>\n      <td>1.0</td>\n      <td>0.693147</td>\n    </tr>\n    <tr>\n      <td>125</td>\n      <td>LC</td>\n      <td>13.9094</td>\n      <td>-60.9789</td>\n      <td>Saint Lucia</td>\n      <td>1.0</td>\n      <td>0.693147</td>\n    </tr>\n    <tr>\n      <td>126</td>\n      <td>LI</td>\n      <td>47.166</td>\n      <td>9.55537</td>\n      <td>Liechtenstein</td>\n      <td>1.0</td>\n      <td>0.693147</td>\n    </tr>\n    <tr>\n      <td>127</td>\n      <td>LK</td>\n      <td>7.87305</td>\n      <td>80.7718</td>\n      <td>Sri Lanka</td>\n      <td>1.0</td>\n      <td>0.693147</td>\n    </tr>\n    <tr>\n      <td>128</td>\n      <td>LR</td>\n      <td>6.42805</td>\n      <td>-9.4295</td>\n      <td>Liberia</td>\n      <td>1.0</td>\n      <td>0.693147</td>\n    </tr>\n    <tr>\n      <td>...</td>\n      <td>...</td>\n      <td>...</td>\n      <td>...</td>\n      <td>...</td>\n      <td>...</td>\n      <td>...</td>\n    </tr>\n    <tr>\n      <td>240</td>\n      <td>YE</td>\n      <td>15.5527</td>\n      <td>48.5164</td>\n      <td>Yemen</td>\n      <td>21638.0</td>\n      <td>9.982253</td>\n    </tr>\n    <tr>\n      <td>241</td>\n      <td>YT</td>\n      <td>-12.8275</td>\n      <td>45.1662</td>\n      <td>Mayotte</td>\n      <td>24873.0</td>\n      <td>10.121578</td>\n    </tr>\n    <tr>\n      <td>242</td>\n      <td>ZA</td>\n      <td>-30.5595</td>\n      <td>22.9375</td>\n      <td>South Africa</td>\n      <td>28768.0</td>\n      <td>10.267054</td>\n    </tr>\n    <tr>\n      <td>243</td>\n      <td>ZM</td>\n      <td>-13.1339</td>\n      <td>27.8493</td>\n      <td>Zambia</td>\n      <td>59138.0</td>\n      <td>10.987646</td>\n    </tr>\n    <tr>\n      <td>244</td>\n      <td>ZW</td>\n      <td>-19.0154</td>\n      <td>29.1549</td>\n      <td>Zimbabwe</td>\n      <td>76516.0</td>\n      <td>11.245268</td>\n    </tr>\n  </tbody>\n</table>\n<p>121 rows × 6 columns</p>\n</div>"
     },
     "metadata": {},
     "execution_count": 145
    }
   ],
   "source": [
    "newdf.sort_values('confirmed')"
   ]
  },
  {
   "cell_type": "code",
   "execution_count": 159,
   "metadata": {},
   "outputs": [
    {
     "output_type": "execute_result",
     "data": {
      "text/plain": "         country                      date  confirmed  deaths  recovered  \\\n22    Cape Verde 2020-03-22 00:00:00+00:00          0       0          0   \n35    East Timor 2020-03-22 00:00:00+00:00          0       0          0   \n99   Puerto Rico 2020-03-22 00:00:00+00:00          0       1          0   \n51          Guam 2020-03-22 00:00:00+00:00          0       1          0   \n122  Timor-Leste 2020-03-22 00:00:00+00:00          1       0          0   \n..           ...                       ...        ...     ...        ...   \n46       Germany 2020-03-22 00:00:00+00:00      24873      94        266   \n113        Spain 2020-03-22 00:00:00+00:00      28768    1772       2575   \n129           US 2020-03-22 00:00:00+00:00      33193     417        178   \n62         Italy 2020-03-22 00:00:00+00:00      59138    5476       7024   \n24         China 2020-03-22 00:00:00+00:00      76516    3210      67549   \n\n    latitude   longitude  \n22   16.0021  -24.013197  \n35       NaN         NaN  \n99   18.2208  -66.590149  \n51   13.4443  144.793731  \n122 -8.87422  125.727539  \n..       ...         ...  \n46   51.1657   10.451526  \n113  40.4637   -3.749220  \n129      NaN         NaN  \n62   41.8719   12.567380  \n24   35.8617  104.195397  \n\n[133 rows x 7 columns]",
      "text/html": "<div>\n<style scoped>\n    .dataframe tbody tr th:only-of-type {\n        vertical-align: middle;\n    }\n\n    .dataframe tbody tr th {\n        vertical-align: top;\n    }\n\n    .dataframe thead th {\n        text-align: right;\n    }\n</style>\n<table border=\"1\" class=\"dataframe\">\n  <thead>\n    <tr style=\"text-align: right;\">\n      <th></th>\n      <th>country</th>\n      <th>date</th>\n      <th>confirmed</th>\n      <th>deaths</th>\n      <th>recovered</th>\n      <th>latitude</th>\n      <th>longitude</th>\n    </tr>\n  </thead>\n  <tbody>\n    <tr>\n      <td>22</td>\n      <td>Cape Verde</td>\n      <td>2020-03-22 00:00:00+00:00</td>\n      <td>0</td>\n      <td>0</td>\n      <td>0</td>\n      <td>16.0021</td>\n      <td>-24.013197</td>\n    </tr>\n    <tr>\n      <td>35</td>\n      <td>East Timor</td>\n      <td>2020-03-22 00:00:00+00:00</td>\n      <td>0</td>\n      <td>0</td>\n      <td>0</td>\n      <td>NaN</td>\n      <td>NaN</td>\n    </tr>\n    <tr>\n      <td>99</td>\n      <td>Puerto Rico</td>\n      <td>2020-03-22 00:00:00+00:00</td>\n      <td>0</td>\n      <td>1</td>\n      <td>0</td>\n      <td>18.2208</td>\n      <td>-66.590149</td>\n    </tr>\n    <tr>\n      <td>51</td>\n      <td>Guam</td>\n      <td>2020-03-22 00:00:00+00:00</td>\n      <td>0</td>\n      <td>1</td>\n      <td>0</td>\n      <td>13.4443</td>\n      <td>144.793731</td>\n    </tr>\n    <tr>\n      <td>122</td>\n      <td>Timor-Leste</td>\n      <td>2020-03-22 00:00:00+00:00</td>\n      <td>1</td>\n      <td>0</td>\n      <td>0</td>\n      <td>-8.87422</td>\n      <td>125.727539</td>\n    </tr>\n    <tr>\n      <td>...</td>\n      <td>...</td>\n      <td>...</td>\n      <td>...</td>\n      <td>...</td>\n      <td>...</td>\n      <td>...</td>\n      <td>...</td>\n    </tr>\n    <tr>\n      <td>46</td>\n      <td>Germany</td>\n      <td>2020-03-22 00:00:00+00:00</td>\n      <td>24873</td>\n      <td>94</td>\n      <td>266</td>\n      <td>51.1657</td>\n      <td>10.451526</td>\n    </tr>\n    <tr>\n      <td>113</td>\n      <td>Spain</td>\n      <td>2020-03-22 00:00:00+00:00</td>\n      <td>28768</td>\n      <td>1772</td>\n      <td>2575</td>\n      <td>40.4637</td>\n      <td>-3.749220</td>\n    </tr>\n    <tr>\n      <td>129</td>\n      <td>US</td>\n      <td>2020-03-22 00:00:00+00:00</td>\n      <td>33193</td>\n      <td>417</td>\n      <td>178</td>\n      <td>NaN</td>\n      <td>NaN</td>\n    </tr>\n    <tr>\n      <td>62</td>\n      <td>Italy</td>\n      <td>2020-03-22 00:00:00+00:00</td>\n      <td>59138</td>\n      <td>5476</td>\n      <td>7024</td>\n      <td>41.8719</td>\n      <td>12.567380</td>\n    </tr>\n    <tr>\n      <td>24</td>\n      <td>China</td>\n      <td>2020-03-22 00:00:00+00:00</td>\n      <td>76516</td>\n      <td>3210</td>\n      <td>67549</td>\n      <td>35.8617</td>\n      <td>104.195397</td>\n    </tr>\n  </tbody>\n</table>\n<p>133 rows × 7 columns</p>\n</div>"
     },
     "metadata": {},
     "execution_count": 159
    }
   ],
   "source": [
    "data.sort_values('confirmed')"
   ]
  },
  {
   "cell_type": "code",
   "execution_count": 151,
   "metadata": {},
   "outputs": [],
   "source": [
    "data['latitude'] = 0"
   ]
  },
  {
   "cell_type": "code",
   "execution_count": 152,
   "metadata": {},
   "outputs": [],
   "source": [
    "data['longitude'] = 0"
   ]
  },
  {
   "cell_type": "code",
   "execution_count": 156,
   "metadata": {},
   "outputs": [],
   "source": [
    "for i in data['country']:\n",
    "    data['latitude'][data['country'] == i] = df['latitude'][df['name'] == i].mean() "
   ]
  },
  {
   "cell_type": "code",
   "execution_count": 158,
   "metadata": {},
   "outputs": [],
   "source": [
    "for i in data['country']:\n",
    "    data['longitude'][data['country'] == i] = df['longitude'][df['name'] == i].mean() "
   ]
  },
  {
   "cell_type": "code",
   "execution_count": 165,
   "metadata": {},
   "outputs": [],
   "source": [
    "a = data['country'][data['latitude'].isnull()]"
   ]
  },
  {
   "cell_type": "code",
   "execution_count": 201,
   "metadata": {},
   "outputs": [],
   "source": [
    "new.to_csv(r'C:\\Users\\jsao\\Documents\\Processing\\sketch_200325a\\ttgyd\\processing\\data\\sketch_200328a\\datasets.csv')"
   ]
  },
  {
   "cell_type": "code",
   "execution_count": 167,
   "metadata": {},
   "outputs": [
    {
     "output_type": "execute_result",
     "data": {
      "text/plain": "['Congo (Kinshasa)',\n 'Czechia',\n 'East Timor',\n 'Eswatini',\n 'Korea, South',\n 'North Macedonia',\n 'Reunion',\n 'Taiwan*',\n 'US']"
     },
     "metadata": {},
     "execution_count": 167
    }
   ],
   "source": [
    "a.to_list()"
   ]
  },
  {
   "cell_type": "code",
   "execution_count": 200,
   "metadata": {},
   "outputs": [],
   "source": [
    "new = pd.read_csv(r'D:\\data.csv')"
   ]
  },
  {
   "cell_type": "code",
   "execution_count": 175,
   "metadata": {},
   "outputs": [
    {
     "output_type": "execute_result",
     "data": {
      "text/plain": "     Unnamed: 0      country                       date  confirmed  deaths  \\\n0             0  Afghanistan  2020-03-22 00:00:00+00:00         40       1   \n1             1      Albania  2020-03-22 00:00:00+00:00         89       2   \n2             2      Algeria  2020-03-22 00:00:00+00:00        201      17   \n3             3      Andorra  2020-03-22 00:00:00+00:00        113       1   \n4             4    Argentina  2020-03-22 00:00:00+00:00        225       4   \n..          ...          ...                        ...        ...     ...   \n121         128      Uruguay  2020-03-22 00:00:00+00:00        135       0   \n122         129           US  2020-03-22 00:00:00+00:00      33193     417   \n123         130    Venezuela  2020-03-22 00:00:00+00:00         70       0   \n124         131      Vietnam  2020-03-22 00:00:00+00:00        113       0   \n125         132       Zambia  2020-03-22 00:00:00+00:00          3       0   \n\n     recovered   latitude   longitude  \n0            1  33.939110   67.709953  \n1            2  41.153332   20.168331  \n2           65  28.033886    1.659626  \n3            1  42.546245    1.601554  \n4            3 -38.416097  -63.616672  \n..         ...        ...         ...  \n121          0 -32.522779  -55.765835  \n122        178  37.090240  -95.712891  \n123         15   6.423750  -66.589730  \n124         17  14.058324  108.277199  \n125          0 -13.133897   27.849332  \n\n[126 rows x 8 columns]",
      "text/html": "<div>\n<style scoped>\n    .dataframe tbody tr th:only-of-type {\n        vertical-align: middle;\n    }\n\n    .dataframe tbody tr th {\n        vertical-align: top;\n    }\n\n    .dataframe thead th {\n        text-align: right;\n    }\n</style>\n<table border=\"1\" class=\"dataframe\">\n  <thead>\n    <tr style=\"text-align: right;\">\n      <th></th>\n      <th>Unnamed: 0</th>\n      <th>country</th>\n      <th>date</th>\n      <th>confirmed</th>\n      <th>deaths</th>\n      <th>recovered</th>\n      <th>latitude</th>\n      <th>longitude</th>\n    </tr>\n  </thead>\n  <tbody>\n    <tr>\n      <td>0</td>\n      <td>0</td>\n      <td>Afghanistan</td>\n      <td>2020-03-22 00:00:00+00:00</td>\n      <td>40</td>\n      <td>1</td>\n      <td>1</td>\n      <td>33.939110</td>\n      <td>67.709953</td>\n    </tr>\n    <tr>\n      <td>1</td>\n      <td>1</td>\n      <td>Albania</td>\n      <td>2020-03-22 00:00:00+00:00</td>\n      <td>89</td>\n      <td>2</td>\n      <td>2</td>\n      <td>41.153332</td>\n      <td>20.168331</td>\n    </tr>\n    <tr>\n      <td>2</td>\n      <td>2</td>\n      <td>Algeria</td>\n      <td>2020-03-22 00:00:00+00:00</td>\n      <td>201</td>\n      <td>17</td>\n      <td>65</td>\n      <td>28.033886</td>\n      <td>1.659626</td>\n    </tr>\n    <tr>\n      <td>3</td>\n      <td>3</td>\n      <td>Andorra</td>\n      <td>2020-03-22 00:00:00+00:00</td>\n      <td>113</td>\n      <td>1</td>\n      <td>1</td>\n      <td>42.546245</td>\n      <td>1.601554</td>\n    </tr>\n    <tr>\n      <td>4</td>\n      <td>4</td>\n      <td>Argentina</td>\n      <td>2020-03-22 00:00:00+00:00</td>\n      <td>225</td>\n      <td>4</td>\n      <td>3</td>\n      <td>-38.416097</td>\n      <td>-63.616672</td>\n    </tr>\n    <tr>\n      <td>...</td>\n      <td>...</td>\n      <td>...</td>\n      <td>...</td>\n      <td>...</td>\n      <td>...</td>\n      <td>...</td>\n      <td>...</td>\n      <td>...</td>\n    </tr>\n    <tr>\n      <td>121</td>\n      <td>128</td>\n      <td>Uruguay</td>\n      <td>2020-03-22 00:00:00+00:00</td>\n      <td>135</td>\n      <td>0</td>\n      <td>0</td>\n      <td>-32.522779</td>\n      <td>-55.765835</td>\n    </tr>\n    <tr>\n      <td>122</td>\n      <td>129</td>\n      <td>US</td>\n      <td>2020-03-22 00:00:00+00:00</td>\n      <td>33193</td>\n      <td>417</td>\n      <td>178</td>\n      <td>37.090240</td>\n      <td>-95.712891</td>\n    </tr>\n    <tr>\n      <td>123</td>\n      <td>130</td>\n      <td>Venezuela</td>\n      <td>2020-03-22 00:00:00+00:00</td>\n      <td>70</td>\n      <td>0</td>\n      <td>15</td>\n      <td>6.423750</td>\n      <td>-66.589730</td>\n    </tr>\n    <tr>\n      <td>124</td>\n      <td>131</td>\n      <td>Vietnam</td>\n      <td>2020-03-22 00:00:00+00:00</td>\n      <td>113</td>\n      <td>0</td>\n      <td>17</td>\n      <td>14.058324</td>\n      <td>108.277199</td>\n    </tr>\n    <tr>\n      <td>125</td>\n      <td>132</td>\n      <td>Zambia</td>\n      <td>2020-03-22 00:00:00+00:00</td>\n      <td>3</td>\n      <td>0</td>\n      <td>0</td>\n      <td>-13.133897</td>\n      <td>27.849332</td>\n    </tr>\n  </tbody>\n</table>\n<p>126 rows × 8 columns</p>\n</div>"
     },
     "metadata": {},
     "execution_count": 175
    }
   ],
   "source": [
    "new"
   ]
  },
  {
   "cell_type": "code",
   "execution_count": 198,
   "metadata": {},
   "outputs": [],
   "source": [
    "new['confirmed_log'] = new['confirmed'].apply(np.log1p)"
   ]
  },
  {
   "cell_type": "code",
   "execution_count": 191,
   "metadata": {},
   "outputs": [
    {
     "output_type": "execute_result",
     "data": {
      "text/plain": "     Unnamed: 0      country                       date  confirmed  deaths  \\\n0             0  Afghanistan  2020-03-22 00:00:00+00:00         40       1   \n1             1      Albania  2020-03-22 00:00:00+00:00         89       2   \n2             2      Algeria  2020-03-22 00:00:00+00:00        201      17   \n3             3      Andorra  2020-03-22 00:00:00+00:00        113       1   \n4             4    Argentina  2020-03-22 00:00:00+00:00        225       4   \n..          ...          ...                        ...        ...     ...   \n121         128      Uruguay  2020-03-22 00:00:00+00:00        135       0   \n122         129           US  2020-03-22 00:00:00+00:00      33193     417   \n123         130    Venezuela  2020-03-22 00:00:00+00:00         70       0   \n124         131      Vietnam  2020-03-22 00:00:00+00:00        113       0   \n125         132       Zambia  2020-03-22 00:00:00+00:00          3       0   \n\n     recovered   latitude   longitude  confirmed_log  \n0            1  33.939110   67.709953       3.688879  \n1            2  41.153332   20.168331       4.488636  \n2           65  28.033886    1.659626       5.303305  \n3            1  42.546245    1.601554       4.727388  \n4            3 -38.416097  -63.616672       5.416100  \n..         ...        ...         ...            ...  \n121          0 -32.522779  -55.765835       4.905275  \n122        178  37.090240  -95.712891      10.410094  \n123         15   6.423750  -66.589730       4.248495  \n124         17  14.058324  108.277199       4.727388  \n125          0 -13.133897   27.849332       1.098612  \n\n[126 rows x 9 columns]",
      "text/html": "<div>\n<style scoped>\n    .dataframe tbody tr th:only-of-type {\n        vertical-align: middle;\n    }\n\n    .dataframe tbody tr th {\n        vertical-align: top;\n    }\n\n    .dataframe thead th {\n        text-align: right;\n    }\n</style>\n<table border=\"1\" class=\"dataframe\">\n  <thead>\n    <tr style=\"text-align: right;\">\n      <th></th>\n      <th>Unnamed: 0</th>\n      <th>country</th>\n      <th>date</th>\n      <th>confirmed</th>\n      <th>deaths</th>\n      <th>recovered</th>\n      <th>latitude</th>\n      <th>longitude</th>\n      <th>confirmed_log</th>\n    </tr>\n  </thead>\n  <tbody>\n    <tr>\n      <td>0</td>\n      <td>0</td>\n      <td>Afghanistan</td>\n      <td>2020-03-22 00:00:00+00:00</td>\n      <td>40</td>\n      <td>1</td>\n      <td>1</td>\n      <td>33.939110</td>\n      <td>67.709953</td>\n      <td>3.688879</td>\n    </tr>\n    <tr>\n      <td>1</td>\n      <td>1</td>\n      <td>Albania</td>\n      <td>2020-03-22 00:00:00+00:00</td>\n      <td>89</td>\n      <td>2</td>\n      <td>2</td>\n      <td>41.153332</td>\n      <td>20.168331</td>\n      <td>4.488636</td>\n    </tr>\n    <tr>\n      <td>2</td>\n      <td>2</td>\n      <td>Algeria</td>\n      <td>2020-03-22 00:00:00+00:00</td>\n      <td>201</td>\n      <td>17</td>\n      <td>65</td>\n      <td>28.033886</td>\n      <td>1.659626</td>\n      <td>5.303305</td>\n    </tr>\n    <tr>\n      <td>3</td>\n      <td>3</td>\n      <td>Andorra</td>\n      <td>2020-03-22 00:00:00+00:00</td>\n      <td>113</td>\n      <td>1</td>\n      <td>1</td>\n      <td>42.546245</td>\n      <td>1.601554</td>\n      <td>4.727388</td>\n    </tr>\n    <tr>\n      <td>4</td>\n      <td>4</td>\n      <td>Argentina</td>\n      <td>2020-03-22 00:00:00+00:00</td>\n      <td>225</td>\n      <td>4</td>\n      <td>3</td>\n      <td>-38.416097</td>\n      <td>-63.616672</td>\n      <td>5.416100</td>\n    </tr>\n    <tr>\n      <td>...</td>\n      <td>...</td>\n      <td>...</td>\n      <td>...</td>\n      <td>...</td>\n      <td>...</td>\n      <td>...</td>\n      <td>...</td>\n      <td>...</td>\n      <td>...</td>\n    </tr>\n    <tr>\n      <td>121</td>\n      <td>128</td>\n      <td>Uruguay</td>\n      <td>2020-03-22 00:00:00+00:00</td>\n      <td>135</td>\n      <td>0</td>\n      <td>0</td>\n      <td>-32.522779</td>\n      <td>-55.765835</td>\n      <td>4.905275</td>\n    </tr>\n    <tr>\n      <td>122</td>\n      <td>129</td>\n      <td>US</td>\n      <td>2020-03-22 00:00:00+00:00</td>\n      <td>33193</td>\n      <td>417</td>\n      <td>178</td>\n      <td>37.090240</td>\n      <td>-95.712891</td>\n      <td>10.410094</td>\n    </tr>\n    <tr>\n      <td>123</td>\n      <td>130</td>\n      <td>Venezuela</td>\n      <td>2020-03-22 00:00:00+00:00</td>\n      <td>70</td>\n      <td>0</td>\n      <td>15</td>\n      <td>6.423750</td>\n      <td>-66.589730</td>\n      <td>4.248495</td>\n    </tr>\n    <tr>\n      <td>124</td>\n      <td>131</td>\n      <td>Vietnam</td>\n      <td>2020-03-22 00:00:00+00:00</td>\n      <td>113</td>\n      <td>0</td>\n      <td>17</td>\n      <td>14.058324</td>\n      <td>108.277199</td>\n      <td>4.727388</td>\n    </tr>\n    <tr>\n      <td>125</td>\n      <td>132</td>\n      <td>Zambia</td>\n      <td>2020-03-22 00:00:00+00:00</td>\n      <td>3</td>\n      <td>0</td>\n      <td>0</td>\n      <td>-13.133897</td>\n      <td>27.849332</td>\n      <td>1.098612</td>\n    </tr>\n  </tbody>\n</table>\n<p>126 rows × 9 columns</p>\n</div>"
     },
     "metadata": {},
     "execution_count": 191
    }
   ],
   "source": [
    "new"
   ]
  },
  {
   "cell_type": "code",
   "execution_count": 194,
   "metadata": {},
   "outputs": [
    {
     "output_type": "execute_result",
     "data": {
      "text/plain": "22          -inf\n47          -inf\n94          -inf\n45      0.000000\n31      0.000000\n         ...    \n42     10.121538\n107    10.267019\n122    10.410094\n58     10.987629\n24     11.245255\nName: confirmed_log, Length: 126, dtype: float64"
     },
     "metadata": {},
     "execution_count": 194
    }
   ],
   "source": [
    "new['confirmed_log'].sort_values()"
   ]
  },
  {
   "cell_type": "code",
   "execution_count": 199,
   "metadata": {},
   "outputs": [
    {
     "output_type": "execute_result",
     "data": {
      "text/plain": "count    126.000000\nmean       5.055459\nstd        2.377733\nmin        0.000000\n25%        3.656583\n50%        5.011523\n75%        6.427546\nmax       11.245268\nName: confirmed_log, dtype: float64"
     },
     "metadata": {},
     "execution_count": 199
    }
   ],
   "source": [
    "new['confirmed_log'].describe()"
   ]
  },
  {
   "cell_type": "code",
   "execution_count": null,
   "metadata": {},
   "outputs": [],
   "source": []
  }
 ]
}